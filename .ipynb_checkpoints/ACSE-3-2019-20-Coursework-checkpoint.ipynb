{
 "cells": [
  {
   "cell_type": "markdown",
   "metadata": {
    "slideshow": {
     "slide_type": "slide"
    }
   },
   "source": [
    "# ACSE-3 (Numerical Methods) <a class=\"tocSkip\">\n",
    "\n",
    "## Coursework<a class=\"tocSkip\">"
   ]
  },
  {
   "cell_type": "markdown",
   "metadata": {},
   "source": [
    "# Instructions  <a class=\"tocSkip\">\n",
    "    \n",
    "\n",
    "- This is the assessed coursework for module ACSE-3: Numerical Methods for year 2019/20.\n",
    "\n",
    "\n",
    "- This is independent work, you cannot work in groups.\n",
    "\n",
    "\n",
    "- Each question below is equally weighted in terms of marks.\n",
    "\n",
    "\n",
    "- You will be assessed on both your code as well as your supporting descriptions/discussions of the results you obtain.\n",
    "\n",
    "\n",
    "- You may use NumPy and SciPy. If you use an algorithm (e.g. from SciPy) not explicitly mentioned in the question, then please explain which algorithm you are using and why you have chosen it.\n",
    "\n",
    "\n",
    "- You should submit your solutions as a single self-contained Jupyter notebooks via Github classroom - please submit a version where you have run all of the cells and all the outputs/plots etc are visible without me having to run the notebook myself."
   ]
  },
  {
   "cell_type": "markdown",
   "metadata": {},
   "source": [
    "\n",
    "<br><br>\n",
    "\n",
    "# DEADLINE:   5pm Sunday 5 Jan 2020 <a class=\"tocSkip\">\n",
    "\n",
    "<br><br>"
   ]
  },
  {
   "cell_type": "markdown",
   "metadata": {
    "toc": true
   },
   "source": [
    "<h1>Table of Contents<span class=\"tocSkip\"></span></h1>\n",
    "<div class=\"toc\"><ul class=\"toc-item\"><li><span><a href=\"#Coursework-Q1---Implement-RK2-family\" data-toc-modified-id=\"Coursework-Q1---Implement-RK2-family-1\"><span class=\"toc-item-num\">1&nbsp;&nbsp;</span>Coursework Q1 - Implement RK2 family</a></span></li><li><span><a href=\"#Coursework-Q2---Implementing-backward-Euler-using-a-nonlinear-system-solver\" data-toc-modified-id=\"Coursework-Q2---Implementing-backward-Euler-using-a-nonlinear-system-solver-2\"><span class=\"toc-item-num\">2&nbsp;&nbsp;</span>Coursework Q2 - Implementing backward Euler using a nonlinear system solver</a></span></li><li><span><a href=\"#Coursework-Q3---Steady-state-advection-diffusion-with-the-FEM\" data-toc-modified-id=\"Coursework-Q3---Steady-state-advection-diffusion-with-the-FEM-3\"><span class=\"toc-item-num\">3&nbsp;&nbsp;</span>Coursework Q3 - Steady-state advection-diffusion with the FEM</a></span></li><li><span><a href=\"#Coursework-Q4---Time-dependent-advection-diffusion-with-the-FEM\" data-toc-modified-id=\"Coursework-Q4---Time-dependent-advection-diffusion-with-the-FEM-4\"><span class=\"toc-item-num\">4&nbsp;&nbsp;</span>Coursework Q4 - Time-dependent advection-diffusion with the FEM</a></span></li></ul></div>"
   ]
  },
  {
   "cell_type": "code",
   "execution_count": 1,
   "metadata": {
    "scrolled": false
   },
   "outputs": [
    {
     "ename": "ModuleNotFoundError",
     "evalue": "No module named 'mpltools'",
     "output_type": "error",
     "traceback": [
      "\u001b[1;31m---------------------------------------------------------------------------\u001b[0m",
      "\u001b[1;31mModuleNotFoundError\u001b[0m                       Traceback (most recent call last)",
      "\u001b[1;32m<ipython-input-1-093e23dddd96>\u001b[0m in \u001b[0;36m<module>\u001b[1;34m\u001b[0m\n\u001b[0;32m      6\u001b[0m \u001b[1;32mimport\u001b[0m \u001b[0mscipy\u001b[0m\u001b[1;33m.\u001b[0m\u001b[0msparse\u001b[0m\u001b[1;33m.\u001b[0m\u001b[0mlinalg\u001b[0m \u001b[1;32mas\u001b[0m \u001b[0mspla\u001b[0m\u001b[1;33m\u001b[0m\u001b[1;33m\u001b[0m\u001b[0m\n\u001b[0;32m      7\u001b[0m \u001b[1;31m# the following allows us to plot triangles indicating convergence order\u001b[0m\u001b[1;33m\u001b[0m\u001b[1;33m\u001b[0m\u001b[1;33m\u001b[0m\u001b[0m\n\u001b[1;32m----> 8\u001b[1;33m \u001b[1;32mfrom\u001b[0m \u001b[0mmpltools\u001b[0m \u001b[1;32mimport\u001b[0m \u001b[0mannotation\u001b[0m\u001b[1;33m\u001b[0m\u001b[1;33m\u001b[0m\u001b[0m\n\u001b[0m\u001b[0;32m      9\u001b[0m \u001b[1;31m# as we're in 2D we will be doing some 3D plotting\u001b[0m\u001b[1;33m\u001b[0m\u001b[1;33m\u001b[0m\u001b[1;33m\u001b[0m\u001b[0m\n\u001b[0;32m     10\u001b[0m \u001b[1;32mfrom\u001b[0m \u001b[0mmpl_toolkits\u001b[0m\u001b[1;33m.\u001b[0m\u001b[0mmplot3d\u001b[0m \u001b[1;32mimport\u001b[0m \u001b[0mAxes3D\u001b[0m\u001b[1;33m\u001b[0m\u001b[1;33m\u001b[0m\u001b[0m\n",
      "\u001b[1;31mModuleNotFoundError\u001b[0m: No module named 'mpltools'"
     ]
    }
   ],
   "source": [
    "%matplotlib inline\n",
    "import numpy as np\n",
    "import matplotlib.pyplot as plt\n",
    "import scipy.linalg as sl\n",
    "import scipy.sparse as sp\n",
    "import scipy.sparse.linalg as spla\n",
    "# the following allows us to plot triangles indicating convergence order\n",
    "from mpltools import annotation\n",
    "# as we're in 2D we will be doing some 3D plotting\n",
    "from mpl_toolkits.mplot3d import Axes3D\n",
    "# and using some colormaps\n",
    "from matplotlib import cm\n",
    "# and we will create some animations!\n",
    "import matplotlib.animation as animation\n",
    "from IPython.display import HTML\n",
    "from pprint import pprint\n",
    "\n",
    "# font sizes for plots\n",
    "plt.rcParams['font.size'] = 12\n",
    "plt.rcParams['font.family'] = 'sans-serif'\n",
    "plt.rcParams['font.sans-serif'] = ['Arial', 'Dejavu Sans']"
   ]
  },
  {
   "cell_type": "markdown",
   "metadata": {},
   "source": [
    "# Coursework Q1 - Implement RK2 family\n",
    "\n",
    "Write a function that implements the RK2 family of methods which takes in the free parameter $\\alpha$ that appears in the most general definition of RK2.\n",
    "\n",
    "For example the first line of your function might read\n",
    "\n",
    "```Python\n",
    "def RK2_alpha(f, y0, t0, t_max, dt, alpha=0.5):\n",
    "```\n",
    "\n",
    "where `f` is a function of time and the solution $y$.\n",
    "\n",
    "<br>\n",
    "\n",
    "Perform some verification tests of your function to confirm that with the choice $\\alpha=1$ your implementation agrees with results from the improved Euler method which was implemented in lecture 5. \n",
    "\n",
    "<br>\n",
    "\n",
    "Test for convergence using several different values of $\\alpha$ using the test problem with RHS and exact solutions given by the test case we saw in lecture 6:\n",
    "\n",
    "$$ y' = y + t^3, \\;\\;\\;\\;\\;\\; y(0) = 1, $$  \n",
    "\n",
    "which has the exact solution\n",
    "\n",
    "$$ y(t) = 7\\text{e}^t - t^3 - 3t^2 - 6t - 6. $$\n",
    "\n",
    "You may make use of the following functions implementing these:\n",
    "\n",
    "```python\n",
    "def f(t, y):\n",
    "    return y + t**3\n",
    "\n",
    "def y_ex(t):\n",
    "    return 7*np.exp(t) - t**3 - 3*t**2 - 6*t - 6\n",
    "```\n",
    "\n",
    "<br>\n",
    "\n",
    "Consider a simple error metric given by the error in the solution at time $t=3$.\n",
    "\n",
    "<br>\n",
    "\n",
    "Plot your convergence results, compared with results from the forward Euler and the improved Euler methods, and add to the graph your estimates for the order of convergence of each method.\n",
    "\n",
    "<br>\n",
    "\n",
    "Also, for a fixed time step size, compute and plot how the error varies as a function of $\\alpha$ for values in the range $[0.1,4.0]$.  \n",
    "\n",
    "<br>\n",
    "\n",
    "What is the optimal value of $\\alpha$ which minimises the error for this problem?"
   ]
  },
  {
   "cell_type": "markdown",
   "metadata": {},
   "source": [
    "# Coursework Q2 - Implementing backward Euler using a nonlinear system solver\n",
    "\n",
    "In the lecture 5 homework (question \"circular orbits\") we considered the vector ODE problem\n",
    "\n",
    "\\begin{align*}\n",
    "\\dot{x} & = -y, \\\\[5pt] \n",
    "\\dot{y} & = x\n",
    "\\end{align*} \n",
    "\n",
    "with initial conditions $x(0)=1,\\; y(0)=0$.  \n",
    "\n",
    "We saw in that homework question how the forward and improved Euler methods performed on this problem.\n",
    "\n",
    "Recall that the exact solution's trajectory in $(x,y)$ space should map out a circle, but forward Euler's orbit was found to rapidly increase in diameter.\n",
    "\n",
    "<br> \n",
    "\n",
    "Write a function to implement the backward Euler scheme for a generic RHS vector function $\\boldsymbol{f}$. \n",
    "\n",
    "To do this you will need to call a nonlinear system solver, make use of one of the ones that we saw in lecture 4.\n",
    "\n",
    "<br>\n",
    "\n",
    "Run your code for the above problem and comment on the qualitative differences between your solution obtained with backward Euler with that obtained using forward Euler.\n",
    "\n",
    "<br>\n",
    "\n",
    "Based on your observations implement another implicit two-level scheme which should provide qualitatively improved results compared with both forward and backward Euler. \n",
    "\n",
    "<br>\n",
    "\n",
    "Given that the exact solution maps out a circle, consider what mathematical conservation law (a function of the solution variables that should be constant) the solution should respect and check how well each of your methods performs at satisfying this law."
   ]
  },
  {
   "cell_type": "markdown",
   "metadata": {},
   "source": [
    "# Coursework Q3 - Steady-state advection-diffusion with the FEM\n",
    "\n",
    "\n",
    "In this part of the question we want to solve steady-state advection-diffusion using the (non-local-assembly based) finite element approach we developed in lecture 11.\n",
    "\n",
    "\n",
    "\n",
    "Using the finite element method\n",
    "formulate and solve the steady-state advection-diffusion (boundary value) problem with Dirichlet boundary conditions we considered in lecture 7 (the exact solution to which is given below).\n",
    "\n",
    "The difference to what we've seen before in our FEM codes is that you now need to discretise the advection term, which ultimately involves integrating basis functions multiplied by their derivatives over elements.\n",
    "\n",
    "[**Hint:** *your starting point for this might be the code we wrote in lecture 11 section 5.4 (\"Dealing with more complex BCs (Inhomogeneous Dirichlet)\"). You need to add in an extra contribution to the LHS corresponding to advection (cf. L11 homework 1.4 where we ended up adding a mass matrix when we solved the problem $u''+u=f$).  You will need to remember to also add in the appropriate extra advection related RHS terms corresponding to the boundary contributions (as was explained in the context of diffusion in section 5.4.2 of lecture 11).*]\n",
    "\n",
    "<br>\n",
    "\n",
    "Verify your implementation with a convergence with $\\Delta x$ analysis using the exact solution given by\n",
    "```Python\n",
    "def u_exact(x):\n",
    "    return CE * (np.exp(Pe * x / L) - 1) / (np.exp(Pe) - 1)\n",
    "```\n",
    "You can use the following parameters (using the notation of lecture 7)\n",
    "```Python\n",
    "kappa = 0.005\n",
    "L = 1\n",
    "Pe = 10\n",
    "U = Pe * kappa / L\n",
    "CE = 1\n",
    "```\n",
    "where `CE` is the Dirichlet BC value at the right hand boundary, the left hand boundary being a homogeneous Dirichlet condition.\n",
    "\n",
    "\n",
    "\n",
    "<br>\n",
    "\n",
    "Do you observe the expected order of convergence?\n",
    "\n",
    "<br>\n",
    "\n",
    "Finally, compare the errors in your solution against a corresponding finite difference solver. You may re-use code from lecture 7 for this. What do you observe?\n",
    "\n",
    "<br>\n",
    "\n",
    "Throughout this question you may assume for simplicity a uniform mesh."
   ]
  },
  {
   "cell_type": "markdown",
   "metadata": {},
   "source": [
    "# Coursework Q4 - Time-dependent advection-diffusion with the FEM\n",
    "\n",
    "In this part of the question we want to solve unsteady advection-diffusion.\n",
    "\n",
    "This time base your solution on the 1D (local) assembly based finite element solver we implemented in lecture 12 and generalise it to include advection.\n",
    "\n",
    "Test your implementation using the same advection-diffusion of a Gaussian problem considered in\n",
    "lecture 8 homework question 2 \"An analytical solution to advection-diffusion\" where I explained and demonstrated how an appropriate Gaussian function can be considered as an exact solution to the advection-diffusion problem as long as we initialise our solution with the Gaussian evaluated at some $t>0$  (since in the limit of  $t=0$   the solution is a Dirac-delta function), and use that same offset in time for the purpose of comparing the analytical solution with the numerical solution you obtain.\n",
    "\n",
    "\n",
    "```python\n",
    "def adv_diff_analytical_solution(U, kappa, x0, x, t):\n",
    "    \"\"\" Analtical solution to advection-diffusion for an assumed \n",
    "    Dirac-delta initial condition at t=0.\n",
    "    \"\"\"\n",
    "    return np.exp( -((x-x0) - U*t)**2 / (4.*kappa*t)) / np.sqrt(4. * np.pi * kappa * t)\n",
    "```\n",
    "\n",
    "\n",
    "We can then use the same function evaluated at the appropriate time as an exact solution to compare our numerical method against.\n",
    "For this question you can consider the (non-periodic) domain $x\\in[0,3]$ and you can assume homogeneous Neumann boundary conditions. Initialise the problem using the analytical solution centred initially at $x=0.5$ with an initial time for the purposes of evaluating the Gaussian function of $t=0.05$. Assume a velocity of 1 and a diffusivity of 0.01. Integrate the problem for a total time period of 1 [NB. I've purposefully set these values and the size of the domain so you don't need to worry about your Gaussian getting close to a boundary].\n",
    "\n",
    "Perform some experiments with different $\\Delta x$ and $\\Delta t$ values such that you can demonstrate the expected order of convergence in space and in time (for the time-stepping options of forward Euler, backward Euler and Crank-Nicolson). To do this I suggest you fix one of $\\Delta x$ or $\\Delta t$ and vary the other independently."
   ]
  }
 ],
 "metadata": {
  "celltoolbar": "Slideshow",
  "kernelspec": {
   "display_name": "Python 3",
   "language": "python",
   "name": "python3"
  },
  "language_info": {
   "codemirror_mode": {
    "name": "ipython",
    "version": 3
   },
   "file_extension": ".py",
   "mimetype": "text/x-python",
   "name": "python",
   "nbconvert_exporter": "python",
   "pygments_lexer": "ipython3",
   "version": "3.7.5"
  },
  "latex_envs": {
   "LaTeX_envs_menu_present": true,
   "autoclose": false,
   "autocomplete": true,
   "bibliofile": "biblio.bib",
   "cite_by": "apalike",
   "current_citInitial": 1,
   "eqLabelWithNumbers": true,
   "eqNumInitial": 1,
   "hotkeys": {
    "equation": "Ctrl-E",
    "itemize": "Ctrl-I"
   },
   "labels_anchors": false,
   "latex_user_defs": false,
   "report_style_numbering": false,
   "user_envs_cfg": false
  },
  "toc": {
   "base_numbering": 1,
   "nav_menu": {},
   "number_sections": true,
   "sideBar": true,
   "skip_h1_title": false,
   "title_cell": "Table of Contents",
   "title_sidebar": "Contents",
   "toc_cell": true,
   "toc_position": {},
   "toc_section_display": true,
   "toc_window_display": false
  }
 },
 "nbformat": 4,
 "nbformat_minor": 1
}
